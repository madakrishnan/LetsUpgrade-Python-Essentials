{
  "nbformat": 4,
  "nbformat_minor": 0,
  "metadata": {
    "colab": {
      "name": "Python assignment Day 4 .ipynb",
      "provenance": []
    },
    "kernelspec": {
      "name": "python3",
      "display_name": "Python 3"
    }
  },
  "cells": [
    {
      "cell_type": "code",
      "metadata": {
        "id": "vzWJeZW_ZcvT",
        "colab_type": "code",
        "colab": {
          "base_uri": "https://localhost:8080/",
          "height": 34
        },
        "outputId": "37bb2151-d777-4d63-9583-1d1bfcc8c143"
      },
      "source": [
        "for Number in range(1042000,702648265 + 1):\n",
        "       \n",
        "           Sum = 0\n",
        "           Times = 0\n",
        "           \n",
        "           \n",
        "           \n",
        "           \n",
        "           Temp = Number\n",
        "           while Temp > 0:\n",
        "                    Times = Times + 1\n",
        "                    Temp = Temp // 10\n",
        "\n",
        "        \n",
        "           Temp = Number\n",
        "           while Temp > 0:\n",
        "                      Reminder = Temp % 10\n",
        "                      Sum = Sum + (Reminder ** Times)\n",
        "                      Temp //= 10\n",
        "           if Number == Sum:\n",
        "                print(\"The first armstrong number is =\",Number)\n",
        "                break\n",
        "                "
      ],
      "execution_count": 1,
      "outputs": [
        {
          "output_type": "stream",
          "text": [
            "The first armstrong number is = 1741725\n"
          ],
          "name": "stdout"
        }
      ]
    }
  ]
}